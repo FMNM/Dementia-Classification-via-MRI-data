{
 "cells": [
  {
   "cell_type": "code",
   "execution_count": 30,
   "metadata": {},
   "outputs": [],
   "source": [
    "import os\n",
    "import numpy as np\n",
    "import pandas as pd\n",
    "import matplotlib.pyplot as plt\n",
    "import matplotlib.gridspec as gridspec\n",
    "import seaborn as sns\n",
    "import pickle as pkl\n",
    "import cv2\n",
    "import imutils\n",
    "import tensorflow as tf\n",
    "from tensorflow.keras.preprocessing.image import ImageDataGenerator, img_to_array, load_img\n",
    "from tensorflow.keras.applications import ResNet50V2, DenseNet121, VGG19, EfficientNetB7, InceptionV3, MobileNetV3Large\n",
    "from tensorflow.keras.applications.resnet_v2 import preprocess_input as resnet_v2_preprocess_input\n",
    "from tensorflow.keras.applications.densenet import preprocess_input as densenet_preprocess_input\n",
    "from tensorflow.keras.applications.vgg19 import preprocess_input as vgg19_preprocess_input\n",
    "from tensorflow.keras.applications.inception_v3 import preprocess_input as inception_v3_preprocess_input\n",
    "from tensorflow.keras.applications.mobilenet_v3 import preprocess_input as mobilenet_v3_preprocess_input\n",
    "from tensorflow.keras.applications.efficientnet import preprocess_input as efficientnet_preprocess_input\n",
    "from tensorflow.keras.models import Model, Sequential, load_model\n",
    "from tensorflow.keras.optimizers import Adam, SGD, RMSprop\n",
    "from tensorflow.keras.callbacks import EarlyStopping\n",
    "from tensorflow.keras import backend as K\n",
    "from tensorflow.keras.layers import LSTM, Conv2D, GlobalAveragePooling2D, GlobalMaxPooling2D, MaxPooling2D, Flatten, Dense, Dropout, BatchNormalization, Activation, Conv2DTranspose, Reshape, Input, ReLU, LeakyReLU, TimeDistributed\n",
    "from tensorflow.keras.regularizers import L2\n",
    "from tensorflow.keras.callbacks import EarlyStopping, ReduceLROnPlateau, ModelCheckpoint\n",
    "from tensorflow.keras.metrics import AUC, Precision, Recall, Accuracy\n",
    "import re"
   ]
  },
  {
   "cell_type": "code",
   "execution_count": 31,
   "metadata": {},
   "outputs": [],
   "source": [
    "# Load model\n",
    "model = load_model('models\\custom_CNN_model.h5')"
   ]
  },
  {
   "cell_type": "code",
   "execution_count": 32,
   "metadata": {},
   "outputs": [
    {
     "data": {
      "text/html": [
       "<div>\n",
       "<style scoped>\n",
       "    .dataframe tbody tr th:only-of-type {\n",
       "        vertical-align: middle;\n",
       "    }\n",
       "\n",
       "    .dataframe tbody tr th {\n",
       "        vertical-align: top;\n",
       "    }\n",
       "\n",
       "    .dataframe thead th {\n",
       "        text-align: right;\n",
       "    }\n",
       "</style>\n",
       "<table border=\"1\" class=\"dataframe\">\n",
       "  <thead>\n",
       "    <tr style=\"text-align: right;\">\n",
       "      <th></th>\n",
       "      <th>image</th>\n",
       "      <th>label</th>\n",
       "    </tr>\n",
       "  </thead>\n",
       "  <tbody>\n",
       "    <tr>\n",
       "      <th>0</th>\n",
       "      <td>dataset_preprocessed_4_final\\No Dementia\\1476.jpg</td>\n",
       "      <td>No Dementia</td>\n",
       "    </tr>\n",
       "    <tr>\n",
       "      <th>1</th>\n",
       "      <td>dataset_preprocessed_4_final\\No Dementia\\1238.jpg</td>\n",
       "      <td>No Dementia</td>\n",
       "    </tr>\n",
       "    <tr>\n",
       "      <th>2</th>\n",
       "      <td>dataset_preprocessed_4_final\\Dementia\\324.jpg</td>\n",
       "      <td>Dementia</td>\n",
       "    </tr>\n",
       "    <tr>\n",
       "      <th>3</th>\n",
       "      <td>dataset_preprocessed_4_final\\Dementia\\3528.jpg</td>\n",
       "      <td>Dementia</td>\n",
       "    </tr>\n",
       "    <tr>\n",
       "      <th>4</th>\n",
       "      <td>dataset_preprocessed_4_final\\No Dementia\\1251.jpg</td>\n",
       "      <td>No Dementia</td>\n",
       "    </tr>\n",
       "    <tr>\n",
       "      <th>...</th>\n",
       "      <td>...</td>\n",
       "      <td>...</td>\n",
       "    </tr>\n",
       "    <tr>\n",
       "      <th>995</th>\n",
       "      <td>dataset_preprocessed_4_final\\No Dementia\\1258.jpg</td>\n",
       "      <td>No Dementia</td>\n",
       "    </tr>\n",
       "    <tr>\n",
       "      <th>996</th>\n",
       "      <td>dataset_preprocessed_4_final\\Dementia\\167.jpg</td>\n",
       "      <td>Dementia</td>\n",
       "    </tr>\n",
       "    <tr>\n",
       "      <th>997</th>\n",
       "      <td>dataset_preprocessed_4_final\\Dementia\\335.jpg</td>\n",
       "      <td>Dementia</td>\n",
       "    </tr>\n",
       "    <tr>\n",
       "      <th>998</th>\n",
       "      <td>dataset_preprocessed_4_final\\No Dementia\\1256.jpg</td>\n",
       "      <td>No Dementia</td>\n",
       "    </tr>\n",
       "    <tr>\n",
       "      <th>999</th>\n",
       "      <td>dataset_preprocessed_4_final\\No Dementia\\1376.jpg</td>\n",
       "      <td>No Dementia</td>\n",
       "    </tr>\n",
       "  </tbody>\n",
       "</table>\n",
       "<p>1000 rows × 2 columns</p>\n",
       "</div>"
      ],
      "text/plain": [
       "                                                 image        label\n",
       "0    dataset_preprocessed_4_final\\No Dementia\\1476.jpg  No Dementia\n",
       "1    dataset_preprocessed_4_final\\No Dementia\\1238.jpg  No Dementia\n",
       "2        dataset_preprocessed_4_final\\Dementia\\324.jpg     Dementia\n",
       "3       dataset_preprocessed_4_final\\Dementia\\3528.jpg     Dementia\n",
       "4    dataset_preprocessed_4_final\\No Dementia\\1251.jpg  No Dementia\n",
       "..                                                 ...          ...\n",
       "995  dataset_preprocessed_4_final\\No Dementia\\1258.jpg  No Dementia\n",
       "996      dataset_preprocessed_4_final\\Dementia\\167.jpg     Dementia\n",
       "997      dataset_preprocessed_4_final\\Dementia\\335.jpg     Dementia\n",
       "998  dataset_preprocessed_4_final\\No Dementia\\1256.jpg  No Dementia\n",
       "999  dataset_preprocessed_4_final\\No Dementia\\1376.jpg  No Dementia\n",
       "\n",
       "[1000 rows x 2 columns]"
      ]
     },
     "execution_count": 32,
     "metadata": {},
     "output_type": "execute_result"
    }
   ],
   "source": [
    "# dataset dir\n",
    "dataset_dir = \"dataset_preprocessed_4_final\"\n",
    "\n",
    "# Create the test set\n",
    "test_set = []\n",
    "\n",
    "for class_dir in os.listdir(dataset_dir):\n",
    "    class_dir_path = os.path.join(dataset_dir, class_dir)\n",
    "    for i, img in enumerate(os.listdir(class_dir_path)):\n",
    "        if i < 500:\n",
    "            img_path = os.path.join(class_dir_path, img)\n",
    "            test_set.append((img_path, class_dir))\n",
    "\n",
    "# shuffle the test set\n",
    "np.random.shuffle(test_set)\n",
    "\n",
    "test_df = pd.DataFrame(test_set, columns=['image', 'label'])\n",
    "\n",
    "test_df"
   ]
  },
  {
   "cell_type": "code",
   "execution_count": 33,
   "metadata": {},
   "outputs": [
    {
     "name": "stdout",
     "output_type": "stream",
     "text": [
      "Found 1000 validated image filenames belonging to 2 classes.\n"
     ]
    }
   ],
   "source": [
    "# Create test generator\n",
    "test_datagen = ImageDataGenerator(rescale=1./255)\n",
    "test_gen = test_datagen.flow_from_dataframe(\n",
    "    test_df,\n",
    "    x_col='image',\n",
    "    y_col='label',\n",
    "    target_size=(224, 224),\n",
    "    batch_size=32,\n",
    "    class_mode='categorical',\n",
    "    shuffle=False\n",
    ")"
   ]
  },
  {
   "cell_type": "code",
   "execution_count": 34,
   "metadata": {},
   "outputs": [
    {
     "name": "stdout",
     "output_type": "stream",
     "text": [
      "32/32 [==============================] - 2s 37ms/step - loss: 0.3728 - accuracy: 0.9040\n"
     ]
    },
    {
     "data": {
      "text/plain": [
       "[0.3727515935897827, 0.9039999842643738]"
      ]
     },
     "execution_count": 34,
     "metadata": {},
     "output_type": "execute_result"
    }
   ],
   "source": [
    "# evaluate the model\n",
    "model.evaluate(test_gen)"
   ]
  },
  {
   "cell_type": "code",
   "execution_count": 35,
   "metadata": {},
   "outputs": [
    {
     "name": "stdout",
     "output_type": "stream",
     "text": [
      "[[474  26]\n",
      " [ 70 430]]\n"
     ]
    }
   ],
   "source": [
    "# predict the test set\n",
    "y_pred = model.predict(test_gen)\n",
    "y_pred = np.argmax(y_pred, axis=1)\n",
    "\n",
    "# get the true labels\n",
    "y_true = test_gen.classes\n",
    "\n",
    "# confusion matrix\n",
    "from sklearn.metrics import confusion_matrix\n",
    "\n",
    "cm = confusion_matrix(y_true, y_pred)\n",
    "\n",
    "print(cm)"
   ]
  },
  {
   "cell_type": "code",
   "execution_count": 36,
   "metadata": {},
   "outputs": [
    {
     "data": {
      "text/html": [
       "<div>\n",
       "<style scoped>\n",
       "    .dataframe tbody tr th:only-of-type {\n",
       "        vertical-align: middle;\n",
       "    }\n",
       "\n",
       "    .dataframe tbody tr th {\n",
       "        vertical-align: top;\n",
       "    }\n",
       "\n",
       "    .dataframe thead th {\n",
       "        text-align: right;\n",
       "    }\n",
       "</style>\n",
       "<table border=\"1\" class=\"dataframe\">\n",
       "  <thead>\n",
       "    <tr style=\"text-align: right;\">\n",
       "      <th></th>\n",
       "      <th>f1</th>\n",
       "      <th>precision</th>\n",
       "      <th>recall</th>\n",
       "      <th>accuracy</th>\n",
       "      <th>specificity</th>\n",
       "      <th>sensitivity</th>\n",
       "    </tr>\n",
       "  </thead>\n",
       "  <tbody>\n",
       "    <tr>\n",
       "      <th>0</th>\n",
       "      <td>0.899582</td>\n",
       "      <td>0.942982</td>\n",
       "      <td>0.86</td>\n",
       "      <td>0.904</td>\n",
       "      <td>0.948</td>\n",
       "      <td>0.86</td>\n",
       "    </tr>\n",
       "  </tbody>\n",
       "</table>\n",
       "</div>"
      ],
      "text/plain": [
       "         f1  precision  recall  accuracy  specificity  sensitivity\n",
       "0  0.899582   0.942982    0.86     0.904        0.948         0.86"
      ]
     },
     "execution_count": 36,
     "metadata": {},
     "output_type": "execute_result"
    }
   ],
   "source": [
    "# Get all metrics\n",
    "from sklearn.metrics import f1_score, precision_score, recall_score, accuracy_score\n",
    "\n",
    "f1 = f1_score(y_true, y_pred)\n",
    "precision = precision_score(y_true, y_pred)\n",
    "recall = recall_score(y_true, y_pred)\n",
    "accuracy = accuracy_score(y_true, y_pred)\n",
    "specificity = cm[0, 0] / (cm[0, 0] + cm[0, 1])\n",
    "sensitivity = cm[1, 1] / (cm[1, 0] + cm[1, 1])\n",
    "\n",
    "results = {\n",
    "    'f1': f1,\n",
    "    'precision': precision,\n",
    "    'recall': recall,\n",
    "    'accuracy': accuracy,\n",
    "    'specificity': specificity,\n",
    "    'sensitivity': sensitivity\n",
    "}\n",
    "results_df = pd.DataFrame(results, index=[0])\n",
    "results_df"
   ]
  },
  {
   "cell_type": "code",
   "execution_count": 37,
   "metadata": {},
   "outputs": [
    {
     "data": {
      "image/png": "[encoded data removed]",
      "text/plain": [
       "<Figure size 800x600 with 2 Axes>"
      ]
     },
     "metadata": {},
     "output_type": "display_data"
    }
   ],
   "source": [
    "from matplotlib.colors import Normalize\n",
    "\n",
    "# Class labels (you can customize these)\n",
    "class_labels = ['Dementia', 'No Dementia']\n",
    "\n",
    "# Normalize color map based on the confusion matrix values\n",
    "norm = Normalize(vmin=cm.min(), vmax=cm.max())\n",
    "\n",
    "# Create the plot\n",
    "fig, ax = plt.subplots(figsize=(8, 6))\n",
    "cmap = plt.get_cmap('Blues')\n",
    "\n",
    "# Create a heatmap using the color map\n",
    "for i in range(len(class_labels)):\n",
    "    for j in range(len(class_labels)):\n",
    "        ax.text(j, i, format(cm[i, j], 'd'),\n",
    "                ha=\"center\", va=\"center\", fontsize=14,\n",
    "                color=\"white\" if norm(cm[i, j]) > 0.5 else \"black\")\n",
    "\n",
    "# Set the colors based on the normalized value\n",
    "colors = cmap(norm(cm.ravel())).reshape(cm.shape + (4,))\n",
    "ax.imshow(colors, interpolation='nearest', cmap=cmap)\n",
    "\n",
    "# Add color bar\n",
    "sm = plt.cm.ScalarMappable(cmap=cmap, norm=norm)\n",
    "sm.set_array([])\n",
    "fig.colorbar(sm, ax=ax, fraction=0.046, pad=0.04)\n",
    "\n",
    "# Set tick marks for grid\n",
    "ax.set_xticks(np.arange(len(class_labels)))\n",
    "ax.set_yticks(np.arange(len(class_labels)))\n",
    "ax.set_xticklabels(class_labels)\n",
    "ax.set_yticklabels(class_labels)\n",
    "\n",
    "# Labels and title\n",
    "plt.title('Confusion Matrix', fontsize=16)\n",
    "plt.ylabel('True', fontsize=14)\n",
    "plt.xlabel('Predicted', fontsize=14)\n",
    "\n",
    "plt.tight_layout()\n",
    "plt.show()"
   ]
  }
 ],
 "metadata": {
  "kernelspec": {
   "display_name": "py39_env",
   "language": "python",
   "name": "python3"
  },
  "language_info": {
   "codemirror_mode": {
    "name": "ipython",
    "version": 3
   },
   "file_extension": ".py",
   "mimetype": "text/x-python",
   "name": "python",
   "nbconvert_exporter": "python",
   "pygments_lexer": "ipython3",
   "version": "3.9.18"
  }
 },
 "nbformat": 4,
 "nbformat_minor": 2
}
