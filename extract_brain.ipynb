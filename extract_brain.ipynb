{
 "cells": [
  {
   "cell_type": "code",
   "execution_count": 8,
   "metadata": {},
   "outputs": [],
   "source": [
    "import os\n",
    "import cv2\n",
    "import numpy as np\n",
    "from scipy import ndimage\n",
    "import nibabel as nib"
   ]
  },
  {
   "cell_type": "code",
   "execution_count": 9,
   "metadata": {},
   "outputs": [],
   "source": [
    "def skull_strip(image_path):\n",
    "    # Read image\n",
    "    image = cv2.imread(image_path, cv2.IMREAD_GRAYSCALE)\n",
    "\n",
    "    # Apply Gaussian Blur\n",
    "    blurred = cv2.GaussianBlur(image, (5, 5), 0)\n",
    "\n",
    "    # Adaptive Thresholding\n",
    "    thresh = cv2.adaptiveThreshold(blurred, 255, cv2.ADAPTIVE_THRESH_GAUSSIAN_C, \n",
    "                                   cv2.THRESH_BINARY, 11, 2)\n",
    "\n",
    "    # Morphological operations to close gaps\n",
    "    kernel = np.ones((5,5), np.uint8)\n",
    "    closing = cv2.morphologyEx(thresh, cv2.MORPH_CLOSE, kernel, iterations = 4)\n",
    "    opening = cv2.morphologyEx(closing, cv2.MORPH_OPEN, kernel, iterations = 2)\n",
    "\n",
    "    # Apply mask to the original image\n",
    "    result = cv2.bitwise_and(image, image, mask=opening)\n",
    "    return result"
   ]
  },
  {
   "cell_type": "code",
   "execution_count": 10,
   "metadata": {},
   "outputs": [],
   "source": [
    "def process_directory(input_dir, output_dir):\n",
    "    if not os.path.exists(output_dir):\n",
    "        os.makedirs(output_dir)\n",
    "\n",
    "    for subdir, dirs, files in os.walk(input_dir):\n",
    "        for file in files:\n",
    "            input_path = os.path.join(subdir, file)\n",
    "            output_path = os.path.join(output_dir, file)\n",
    "\n",
    "            # Process image\n",
    "            processed_image = skull_strip(input_path)\n",
    "\n",
    "            # Save image\n",
    "            cv2.imwrite(output_path, processed_image)"
   ]
  },
  {
   "cell_type": "code",
   "execution_count": 11,
   "metadata": {},
   "outputs": [
    {
     "ename": "KeyboardInterrupt",
     "evalue": "",
     "output_type": "error",
     "traceback": [
      "\u001b[1;31m---------------------------------------------------------------------------\u001b[0m",
      "\u001b[1;31mKeyboardInterrupt\u001b[0m                         Traceback (most recent call last)",
      "Cell \u001b[1;32mIn[11], line 9\u001b[0m\n\u001b[0;32m      7\u001b[0m     input_dir \u001b[38;5;241m=\u001b[39m os\u001b[38;5;241m.\u001b[39mpath\u001b[38;5;241m.\u001b[39mjoin(input_base, class_name)\n\u001b[0;32m      8\u001b[0m     output_dir \u001b[38;5;241m=\u001b[39m os\u001b[38;5;241m.\u001b[39mpath\u001b[38;5;241m.\u001b[39mjoin(output_base, class_name)\n\u001b[1;32m----> 9\u001b[0m     \u001b[43mprocess_directory\u001b[49m\u001b[43m(\u001b[49m\u001b[43minput_dir\u001b[49m\u001b[43m,\u001b[49m\u001b[43m \u001b[49m\u001b[43moutput_dir\u001b[49m\u001b[43m)\u001b[49m\n\u001b[0;32m     11\u001b[0m \u001b[38;5;28mprint\u001b[39m(\u001b[38;5;124m\"\u001b[39m\u001b[38;5;124mProcessing complete.\u001b[39m\u001b[38;5;124m\"\u001b[39m)\n",
      "Cell \u001b[1;32mIn[10], line 14\u001b[0m, in \u001b[0;36mprocess_directory\u001b[1;34m(input_dir, output_dir)\u001b[0m\n\u001b[0;32m     11\u001b[0m processed_image \u001b[38;5;241m=\u001b[39m skull_strip(input_path)\n\u001b[0;32m     13\u001b[0m \u001b[38;5;66;03m# Save image\u001b[39;00m\n\u001b[1;32m---> 14\u001b[0m \u001b[43mcv2\u001b[49m\u001b[38;5;241;43m.\u001b[39;49m\u001b[43mimwrite\u001b[49m\u001b[43m(\u001b[49m\u001b[43moutput_path\u001b[49m\u001b[43m,\u001b[49m\u001b[43m \u001b[49m\u001b[43mprocessed_image\u001b[49m\u001b[43m)\u001b[49m\n",
      "\u001b[1;31mKeyboardInterrupt\u001b[0m: "
     ]
    }
   ],
   "source": [
    "# Paths\n",
    "input_base = 'filtered_dataset'\n",
    "output_base = 'Brain_only'\n",
    "\n",
    "# Process each class\n",
    "for class_name in ['Dementia', 'Not Dementia']:\n",
    "    input_dir = os.path.join(input_base, class_name)\n",
    "    output_dir = os.path.join(output_base, class_name)\n",
    "    process_directory(input_dir, output_dir)\n",
    "\n",
    "print(\"Processing complete.\")"
   ]
  },
  {
   "cell_type": "code",
   "execution_count": null,
   "metadata": {},
   "outputs": [],
   "source": [
    "# # Load image\n",
    "# image = cv2.imread('path_to_your_image', cv2.IMREAD_GRAYSCALE)\n",
    "\n",
    "# # Gaussian blur\n",
    "# blurred = cv2.GaussianBlur(image, (5, 5), 0)\n",
    "\n",
    "# # Thresholding\n",
    "# ret, thresh = cv2.threshold(blurred, 0, 255, cv2.THRESH_BINARY + cv2.THRESH_OTSU)\n",
    "\n",
    "# # Morphological operations\n",
    "# kernel = np.ones((5,5),np.uint8)\n",
    "# closing = cv2.morphologyEx(thresh, cv2.MORPH_CLOSE, kernel, iterations = 2)\n",
    "\n",
    "# # Remove small white noises\n",
    "# opening = cv2.morphologyEx(closing, cv2.MORPH_OPEN, kernel, iterations = 2)\n",
    "\n",
    "# # Sure background area\n",
    "# sure_bg = cv2.dilate(opening, kernel, iterations=3)\n",
    "\n",
    "# # Finding sure foreground area\n",
    "# dist_transform = cv2.distanceTransform(opening,cv2.DIST_L2,5)\n",
    "# ret, sure_fg = cv2.threshold(dist_transform,0.7*dist_transform.max(),255,0)\n",
    "\n",
    "# # Finding unknown region\n",
    "# sure_fg = np.uint8(sure_fg)\n",
    "# unknown = cv2.subtract(sure_bg,sure_fg)\n",
    "\n",
    "# # Labeling regions\n",
    "# ret, markers = cv2.connectedComponents(sure_fg)\n",
    "\n",
    "# # Add one to all labels so that sure background is not 0, but 1\n",
    "# markers = markers+1\n",
    "\n",
    "# # Now, mark the region of unknown with zero\n",
    "# markers[unknown==255] = 0\n",
    "\n",
    "# # Finally apply watershed\n",
    "# markers = cv2.watershed(cv2.cvtColor(image, cv2.COLOR_GRAY2RGB), markers)\n",
    "# image[markers == -1] = [255,0,0]\n",
    "\n",
    "# # Applying the mask to get the segmented brain\n",
    "# mask = np.zeros_like(image)\n",
    "# mask[markers == 1] = 255\n",
    "# result = cv2.bitwise_and(image, image, mask=mask)\n",
    "\n",
    "# # Show result\n",
    "# cv2.imshow('Skull stripped image', result)\n",
    "# cv2.waitKey(0)\n",
    "# cv2.destroyAllWindows()"
   ]
  }
 ],
 "metadata": {
  "kernelspec": {
   "display_name": "py39_env",
   "language": "python",
   "name": "python3"
  },
  "language_info": {
   "codemirror_mode": {
    "name": "ipython",
    "version": 3
   },
   "file_extension": ".py",
   "mimetype": "text/x-python",
   "name": "python",
   "nbconvert_exporter": "python",
   "pygments_lexer": "ipython3",
   "version": "3.9.18"
  }
 },
 "nbformat": 4,
 "nbformat_minor": 2
}
