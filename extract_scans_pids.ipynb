{
 "cells": [
  {
   "cell_type": "code",
   "execution_count": 1,
   "metadata": {},
   "outputs": [],
   "source": [
    "import os\n",
    "import numpy as np\n",
    "import shutil"
   ]
  },
  {
   "cell_type": "code",
   "execution_count": 27,
   "metadata": {},
   "outputs": [],
   "source": [
    "def copy_mri_files(source_dir, destination_dir, start, end, patient_id=\"\"):\n",
    "    if not os.path.exists(destination_dir):\n",
    "        os.makedirs(destination_dir)\n",
    "\n",
    "    # Loop through the files in the source directory\n",
    "    for filename in os.listdir(source_dir):\n",
    "        # copy slices in a range\n",
    "        for i in range(start, end):\n",
    "            print(filename)\n",
    "            file_suffix = \"_\" + str(i) + \".jpg\"\n",
    "            if filename.startswith(\"OAS1_\" + patient_id) and filename.endswith(file_suffix):\n",
    "                # Construct source and destination paths\n",
    "                source_file = os.path.join(source_dir, filename)\n",
    "                destination_file = os.path.join(destination_dir, filename)\n",
    "                # Copy the file to the destination directory\n",
    "                shutil.copyfile(source_file, destination_file)\n",
    "                # print(source_file, destination_file)\n",
    "\n",
    "# extract patiend id from list of images names in the source folder\n",
    "def patient_ids(source_dir):\n",
    "    ids = []\n",
    "    for filename in os.listdir(source_dir):\n",
    "        if filename.startswith(\".\"):\n",
    "            continue\n",
    "        # Split the string using underscore as the delimiter\n",
    "        parts = filename.split('_')\n",
    "        ids.append(parts[1])\n",
    "        \n",
    "    return np.unique(ids)\n",
    "        "
   ]
  },
  {
   "cell_type": "code",
   "execution_count": 32,
   "metadata": {},
   "outputs": [],
   "source": [
    "\"\"\" \n",
    "    These patient ids are manaually checked for slices that are usable from a certain range.\n",
    "    If more slices are wish to obtained from other patients that may have good scans outside of the range,\n",
    "    use method patiend_ids() on the original oasis data directory then minus the ids below to get a list of \n",
    "    unused patients. \n",
    "\"\"\"\n",
    "    \n",
    "nd_pids = ['0001', '0002', '0004', '0007', '0009', '0011', '0012', '0013', '0017', '0018',\n",
    " '0019', '0020', '0026', '0029', '0030', '0032', '0033', '0037', '0040', '0043',\n",
    " '0044', '0049', '0054', '0061', '0062', '0064', '0065', '0068', '0069', '0070',\n",
    " '0071', '0072', '0074', '0075', '0077', '0078', '0080', '0081', '0086', '0087',\n",
    " '0088', '0092', '0097', '0101', '0103', '0106', '0107', '0108', '0110', '0111',\n",
    " '0113', '0114', '0116', '0117', '0119', '0125', '0127', '0130', '0133', '0135',\n",
    " '0136', '0138', '0144', '0145', '0146', '0147', '0150', '0152', '0153', '0156',\n",
    " '0159', '0163', '0167', '0170', '0176', '0181', '0182', '0183', '0186', '0188',\n",
    " '0189', '0191', '0192', '0193', '0195', '0197', '0199', '0202', '0203', '0204',\n",
    " '0207', '0209', '0214', '0218', '0220', '0230', '0232', '0234', '0236', '0239',\n",
    " '0246', '0249', '0254', '0255', '0256', '0258', '0259', '0261', '0262', '0266',\n",
    " '0270', '0271', '0274', '0275', '0277', '0279', '0283', '0284', '0285', '0289',\n",
    " '0292', '0293', '0294', '0295', '0299', '0310', '0311', '0313', '0314', '0318',\n",
    " '0323', '0327', '0328', '0330', '0332', '0341', '0342', '0345', '0348', '0350',\n",
    " '0354', '0356', '0357', '0358', '0359', '0361', '0363', '0365', '0366', '0367',\n",
    " '0368', '0369', '0378', '0379', '0381']\n",
    "\n",
    "very_mild_pids = ['0016', '0021', '0022', '0023', '0039', '0041', '0042', '0046', '0060', '0082',\n",
    " '0094', '0098', '0115', '0120', '0124', '0142', '0143', '0155', '0158', '0205',\n",
    " '0210', '0217', '0226', '0243', '0247', '0272', '0287', '0288', '0290', '0298',\n",
    " '0304', '0307', '0315', '0329', '0335', '0339', '0362', '0374', '0380']\n",
    "\n",
    "mild_pids = ['0028', '0035', '0052', '0053', '0056', '0067', '0073', '0134', '0184', '0268',\n",
    " '0269', '0316', '0373', '0382']\n",
    "\n",
    "moderate_pids = ['0308']"
   ]
  },
  {
   "cell_type": "code",
   "execution_count": 33,
   "metadata": {},
   "outputs": [
    {
     "name": "stdout",
     "output_type": "stream",
     "text": [
      "count: 155 nd_pids: ['0001', '0002', '0004', '0007', '0009', '0011', '0012', '0013', '0017', '0018', '0019', '0020', '0026', '0029', '0030', '0032', '0033', '0037', '0040', '0043', '0044', '0049', '0054', '0061', '0062', '0064', '0065', '0068', '0069', '0070', '0071', '0072', '0074', '0075', '0077', '0078', '0080', '0081', '0086', '0087', '0088', '0092', '0097', '0101', '0103', '0106', '0107', '0108', '0110', '0111', '0113', '0114', '0116', '0117', '0119', '0125', '0127', '0130', '0133', '0135', '0136', '0138', '0144', '0145', '0146', '0147', '0150', '0152', '0153', '0156', '0159', '0163', '0167', '0170', '0176', '0181', '0182', '0183', '0186', '0188', '0189', '0191', '0192', '0193', '0195', '0197', '0199', '0202', '0203', '0204', '0207', '0209', '0214', '0218', '0220', '0230', '0232', '0234', '0236', '0239', '0246', '0249', '0254', '0255', '0256', '0258', '0259', '0261', '0262', '0266', '0270', '0271', '0274', '0275', '0277', '0279', '0283', '0284', '0285', '0289', '0292', '0293', '0294', '0295', '0299', '0310', '0311', '0313', '0314', '0318', '0323', '0327', '0328', '0330', '0332', '0341', '0342', '0345', '0348', '0350', '0354', '0356', '0357', '0358', '0359', '0361', '0363', '0365', '0366', '0367', '0368', '0369', '0378', '0379', '0381']\n",
      "count: 39 very_mild_pids: ['0016', '0021', '0022', '0023', '0039', '0041', '0042', '0046', '0060', '0082', '0094', '0098', '0115', '0120', '0124', '0142', '0143', '0155', '0158', '0205', '0210', '0217', '0226', '0243', '0247', '0272', '0287', '0288', '0290', '0298', '0304', '0307', '0315', '0329', '0335', '0339', '0362', '0374', '0380']\n",
      "count: 14 mild_pids: ['0028', '0035', '0052', '0053', '0056', '0067', '0073', '0134', '0184', '0268', '0269', '0316', '0373', '0382']\n",
      "count: 1 moderate_pids: ['0308']\n"
     ]
    }
   ],
   "source": [
    "print('count:', len(nd_pids), \"nd_pids:\", nd_pids)\n",
    "print('count:', len(very_mild_pids), \"very_mild_pids:\", very_mild_pids)\n",
    "print('count:', len(mild_pids), \"mild_pids:\", mild_pids)\n",
    "print('count:', len(moderate_pids), \"moderate_pids:\", moderate_pids)"
   ]
  },
  {
   "cell_type": "code",
   "execution_count": null,
   "metadata": {},
   "outputs": [],
   "source": [
    "\"\"\" Non demented brain off sets slightly higher starting at 143 \"\"\"\n",
    "# Source directory containing the files\n",
    "source_dir = \"./Data/Non Demented\"\n",
    "\n",
    "# Destination directory to copy the files\n",
    "destination_dir = \"./final_dataset/Non Demented\"\n",
    "\n",
    "# select 5 slices\n",
    "for pid in nd_pids:\n",
    "    copy_mri_files(source_dir, destination_dir, 143, 144, pid)\n",
    "    copy_mri_files(source_dir, destination_dir, 145, 146, pid)\n",
    "    copy_mri_files(source_dir, destination_dir, 147, 148, pid)\n",
    "    copy_mri_files(source_dir, destination_dir, 149, 150, pid)\n",
    "    copy_mri_files(source_dir, destination_dir, 151, 152, pid)\n",
    "    # copy_mri_files(source_dir, destination_dir, 152, 153, pid)"
   ]
  },
  {
   "cell_type": "code",
   "execution_count": 68,
   "metadata": {},
   "outputs": [],
   "source": [
    "\"\"\"Very mild Dementia brain off sets slightly lower starting at 140 \"\"\"\n",
    "# Source directory containing the files\n",
    "source_dir = \"./Data/Very mild Dementia\"\n",
    "\n",
    "# Destination directory to copy the files\n",
    "destination_dir = \"./final_dataset/Demented\"\n",
    "\n",
    "# select 5 slices\n",
    "for pid in very_mild_pids:\n",
    "    copy_mri_files(source_dir, destination_dir, 140, 154, pid)"
   ]
  },
  {
   "cell_type": "code",
   "execution_count": 69,
   "metadata": {},
   "outputs": [],
   "source": [
    "\"\"\" Mild Dementia brain off sets slightly lower thank Very Mild Dementia at 135 \"\"\"\n",
    "\n",
    "# Source directory containing the files\n",
    "source_dir = \"./Data/Mild Dementia\"\n",
    "\n",
    "# Destination directory to copy the files\n",
    "destination_dir = \"./final_dataset/Demented\"\n",
    "\n",
    "# select 8 slices\n",
    "for pid in mild_pids:\n",
    "    copy_mri_files(source_dir, destination_dir, 135, 154, pid)"
   ]
  },
  {
   "cell_type": "code",
   "execution_count": 70,
   "metadata": {},
   "outputs": [],
   "source": [
    "\"\"\" Only 1 out of 2 patients has good scans. Manually checked for valid scans ranged from 140-160 \"\"\"\n",
    "\n",
    "# Source directory containing the files\n",
    "source_dir = \"./Data/Moderate Dementia\"\n",
    "\n",
    "# Destination directory to copy the files\n",
    "destination_dir = \"./final_dataset/Demented\"\n",
    "\n",
    "# select 5 slices\n",
    "for pid in moderate_pids:\n",
    "    copy_mri_files(source_dir, destination_dir, 140, 160, pid)"
   ]
  },
  {
   "cell_type": "markdown",
   "metadata": {},
   "source": []
  }
 ],
 "metadata": {
  "kernelspec": {
   "display_name": "base",
   "language": "python",
   "name": "python3"
  },
  "language_info": {
   "codemirror_mode": {
    "name": "ipython",
    "version": 3
   },
   "file_extension": ".py",
   "mimetype": "text/x-python",
   "name": "python",
   "nbconvert_exporter": "python",
   "pygments_lexer": "ipython3",
   "version": "3.9.13"
  }
 },
 "nbformat": 4,
 "nbformat_minor": 2
}
